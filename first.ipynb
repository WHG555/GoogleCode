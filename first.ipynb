{
  "nbformat": 4,
  "nbformat_minor": 0,
  "metadata": {
    "colab": {
      "name": "first.ipynb",
      "version": "0.3.2",
      "provenance": [],
      "include_colab_link": true
    },
    "kernelspec": {
      "name": "python3",
      "display_name": "Python 3"
    },
    "accelerator": "GPU"
  },
  "cells": [
    {
      "cell_type": "markdown",
      "metadata": {
        "id": "view-in-github",
        "colab_type": "text"
      },
      "source": [
        "<a href=\"https://colab.research.google.com/github/WHG555/GoogleCode/blob/master/first.ipynb\" target=\"_parent\"><img src=\"https://colab.research.google.com/assets/colab-badge.svg\" alt=\"Open In Colab\"/></a>"
      ]
    },
    {
      "cell_type": "code",
      "metadata": {
        "id": "WJMwB76BWbPn",
        "colab_type": "code",
        "outputId": "598c1f00-c306-492e-933b-d91e900a0be5",
        "colab": {
          "base_uri": "https://localhost:8080/",
          "height": 34
        }
      },
      "source": [
        "'''-------------------------------1、文件说明--------------------------------'''  \n",
        "'''\n",
        " * 项目说明：RetinaNet模型训练代码  \n",
        " * 项目时间：2019-8-30  \n",
        " * 项目人员：whg  \n",
        "'''  "
      ],
      "execution_count": 0,
      "outputs": [
        {
          "output_type": "execute_result",
          "data": {
            "text/plain": [
              "'\\n * 项目说明：RetinaNet模型训练代码  \\n * 项目时间：2019-8-30  \\n * 项目人员：whg  \\n'"
            ]
          },
          "metadata": {
            "tags": []
          },
          "execution_count": 7
        }
      ]
    },
    {
      "cell_type": "code",
      "metadata": {
        "id": "IgkTSC3KWmWj",
        "colab_type": "code",
        "colab": {}
      },
      "source": [
        "from torch import nn\n",
        " \n",
        "class simpleNet(nn.Module):\n",
        "    \"\"\"\n",
        "    定义了一个简单的三层全连接神经网络，每一层都是线性的\n",
        "    \"\"\"\n",
        "    def __init__(self, in_dim, n_hidden_1, n_hidden_2, out_dim):\n",
        "        super(simpleNet, self).__init__()\n",
        "        self.layer1 = nn.Linear(in_dim, n_hidden_1)\n",
        "        self.layer2 = nn.Linear(n_hidden_1, n_hidden_2)\n",
        "        self.layer3 = nn.Linear(n_hidden_2, out_dim)\n",
        " \n",
        "    def forward(self, x):\n",
        "        x = self.layer1(x)\n",
        "        x = self.layer2(x)\n",
        "        x = self.layer3(x)\n",
        "        return x\n",
        " \n",
        "class Activation_Net(nn.Module):\n",
        "    \"\"\"\n",
        "    在上面的simpleNet的基础上，在每层的输出部分添加了激活函数\n",
        "    \"\"\"\n",
        "    def __init__(self, in_dim, n_hidden_1, n_hidden_2, out_dim):\n",
        "        super(Activation_Net, self).__init__()\n",
        "        self.layer1 = nn.Sequential(nn.Linear(in_dim, n_hidden_1), nn.ReLU(True))\n",
        "        self.layer2 = nn.Sequential(nn.Linear(n_hidden_1, n_hidden_2), nn.ReLU(True))\n",
        "        self.layer3 = nn.Sequential(nn.Linear(n_hidden_2, out_dim))\n",
        "        \"\"\"\n",
        "        这里的Sequential()函数的功能是将网络的层组合到一起。\n",
        "        \"\"\"\n",
        " \n",
        "    def forward(self, x):\n",
        "        x = self.layer1(x)\n",
        "        x = self.layer2(x)\n",
        "        x = self.layer3(x)\n",
        "        return x\n",
        " \n",
        "class Batch_Net(nn.Module):\n",
        "    \"\"\"\n",
        "    在上面的Activation_Net的基础上，增加了一个加快收敛速度的方法——批标准化\n",
        "    \"\"\"\n",
        "    def __init__(self, in_dim, n_hidden_1, n_hidden_2, out_dim):\n",
        "        super(Batch_Net, self).__init__()\n",
        "        self.layer1 = nn.Sequential(nn.Linear(in_dim, n_hidden_1), nn.BatchNorm1d(n_hidden_1), nn.ReLU(True))\n",
        "        self.layer2 = nn.Sequential(nn.Linear(n_hidden_1, n_hidden_2), nn.BatchNorm1d(n_hidden_2), nn.ReLU(True))\n",
        "        self.layer3 = nn.Sequential(nn.Linear(n_hidden_2, out_dim))\n",
        " \n",
        "    def forward(self, x):\n",
        "        x = self.layer1(x)\n",
        "        x = self.layer2(x)\n",
        "        x = self.layer3(x)\n",
        "        return x"
      ],
      "execution_count": 0,
      "outputs": []
    },
    {
      "cell_type": "code",
      "metadata": {
        "id": "KOx59XCJX_9b",
        "colab_type": "code",
        "colab": {}
      },
      "source": [
        "import torch\n",
        "from torch import nn, optim\n",
        "from torch.autograd import Variable\n",
        "from torch.utils.data import DataLoader\n",
        "from torchvision import datasets, transforms\n",
        " \n",
        "# 之前所定义的神经网络模型\n",
        "# import net"
      ],
      "execution_count": 0,
      "outputs": []
    },
    {
      "cell_type": "code",
      "metadata": {
        "id": "XkHq_PcQZNlt",
        "colab_type": "code",
        "colab": {}
      },
      "source": [
        "# 定义一些超参数\n",
        "batch_size = 64\n",
        "learning_rate = 0.02\n",
        "num_epoches = 20"
      ],
      "execution_count": 0,
      "outputs": []
    },
    {
      "cell_type": "code",
      "metadata": {
        "id": "1lBbIeIebIeE",
        "colab_type": "code",
        "colab": {}
      },
      "source": [
        "# 数据预处理。transforms.ToTensor()将图片转换成PyTorch中处理的对象Tensor,并且进行标准化（数据在0~1之间）\n",
        "# transforms.Normalize()做归一化。它进行了减均值，再除以标准差。两个参数分别是均值和标准差\n",
        "# transforms.Compose()函数则是将各种预处理的操作组合到了一起\n",
        "data_tf = transforms.Compose(\n",
        "    [transforms.ToTensor(),\n",
        "     transforms.Normalize([0.5], [0.5])])"
      ],
      "execution_count": 0,
      "outputs": []
    },
    {
      "cell_type": "code",
      "metadata": {
        "id": "Ey--4Yxbc_XU",
        "colab_type": "code",
        "colab": {
          "base_uri": "https://localhost:8080/",
          "height": 275
        },
        "outputId": "43c36063-c3c8-4778-ad03-2a0c50325f3e"
      },
      "source": [
        "# 数据集的下载器\n",
        "train_dataset = datasets.MNIST(\n",
        "    root='./data', train=True, transform=data_tf, download=True)\n",
        "test_dataset = datasets.MNIST(root='./data', train=False, transform=data_tf)\n",
        "train_loader = DataLoader(train_dataset, batch_size=batch_size, shuffle=True)\n",
        "test_loader = DataLoader(test_dataset, batch_size=batch_size, shuffle=False)"
      ],
      "execution_count": 6,
      "outputs": [
        {
          "output_type": "stream",
          "text": [
            "  0%|          | 0/9912422 [00:00<?, ?it/s]"
          ],
          "name": "stderr"
        },
        {
          "output_type": "stream",
          "text": [
            "Downloading http://yann.lecun.com/exdb/mnist/train-images-idx3-ubyte.gz to ./data/MNIST/raw/train-images-idx3-ubyte.gz\n"
          ],
          "name": "stdout"
        },
        {
          "output_type": "stream",
          "text": [
            "9920512it [00:00, 19753510.14it/s]                            \n"
          ],
          "name": "stderr"
        },
        {
          "output_type": "stream",
          "text": [
            "Extracting ./data/MNIST/raw/train-images-idx3-ubyte.gz\n"
          ],
          "name": "stdout"
        },
        {
          "output_type": "stream",
          "text": [
            "32768it [00:00, 318060.32it/s]                           \n",
            "0it [00:00, ?it/s]"
          ],
          "name": "stderr"
        },
        {
          "output_type": "stream",
          "text": [
            "Downloading http://yann.lecun.com/exdb/mnist/train-labels-idx1-ubyte.gz to ./data/MNIST/raw/train-labels-idx1-ubyte.gz\n",
            "Extracting ./data/MNIST/raw/train-labels-idx1-ubyte.gz\n",
            "Downloading http://yann.lecun.com/exdb/mnist/t10k-images-idx3-ubyte.gz to ./data/MNIST/raw/t10k-images-idx3-ubyte.gz\n"
          ],
          "name": "stdout"
        },
        {
          "output_type": "stream",
          "text": [
            "1654784it [00:00, 5278583.67it/s]                           \n",
            "8192it [00:00, 132671.79it/s]\n"
          ],
          "name": "stderr"
        },
        {
          "output_type": "stream",
          "text": [
            "Extracting ./data/MNIST/raw/t10k-images-idx3-ubyte.gz\n",
            "Downloading http://yann.lecun.com/exdb/mnist/t10k-labels-idx1-ubyte.gz to ./data/MNIST/raw/t10k-labels-idx1-ubyte.gz\n",
            "Extracting ./data/MNIST/raw/t10k-labels-idx1-ubyte.gz\n",
            "Processing...\n",
            "Done!\n"
          ],
          "name": "stdout"
        }
      ]
    },
    {
      "cell_type": "code",
      "metadata": {
        "id": "h0LOSJOwrYPZ",
        "colab_type": "code",
        "colab": {
          "base_uri": "https://localhost:8080/",
          "height": 34
        },
        "outputId": "890eb512-866a-47e7-bf84-d3e9db6896c7"
      },
      "source": [
        "print(test_loader.dataset.training_file)"
      ],
      "execution_count": 7,
      "outputs": [
        {
          "output_type": "stream",
          "text": [
            "training.pt\n"
          ],
          "name": "stdout"
        }
      ]
    },
    {
      "cell_type": "code",
      "metadata": {
        "id": "3HwjB9cmrbVt",
        "colab_type": "code",
        "colab": {}
      },
      "source": [
        "# 选择模型\n",
        "model = simpleNet(28 * 28, 300, 100, 10)\n",
        "# model = net.Activation_Net(28 * 28, 300, 100, 10)\n",
        "# model = net.Batch_Net(28 * 28, 300, 100, 10)\n",
        "if torch.cuda.is_available():\n",
        "    model = model.cuda()\n",
        " \n",
        "# 定义损失函数和优化器\n",
        "criterion = nn.CrossEntropyLoss()\n",
        "optimizer = optim.SGD(model.parameters(), lr=learning_rate)"
      ],
      "execution_count": 0,
      "outputs": []
    },
    {
      "cell_type": "code",
      "metadata": {
        "id": "SIYMkSlnrhfU",
        "colab_type": "code",
        "colab": {
          "base_uri": "https://localhost:8080/",
          "height": 340
        },
        "outputId": "ecf25a4c-1f4e-4ffb-a51a-ded7fa3aa3fd"
      },
      "source": [
        "# 训练模型\n",
        "epoch = 0\n",
        "print(train_loader.batch_size)\n",
        "date = []\n",
        "ydata = []\n",
        "for data in train_loader:\n",
        "    img, label = data\n",
        "    img = img.view(img.size(0), -1)\n",
        "    if torch.cuda.is_available():\n",
        "        img = img.cuda()\n",
        "        label = label.cuda()\n",
        "    else:\n",
        "        img = Variable(img)\n",
        "        label = Variable(label)\n",
        "    out = model(img)\n",
        "    loss = criterion(out, label)\n",
        "    print_loss = loss.data.item()\n",
        " \n",
        "    optimizer.zero_grad()\n",
        "    loss.backward()\n",
        "    optimizer.step()\n",
        "    epoch+=1\n",
        "    if epoch%50 == 0:\n",
        "        print('epoch: {}, loss: {:.4}'.format(epoch, loss.data.item()))\n",
        "        date.append(epoch)\n",
        "        ydata.append(loss.cpu().data.numpy())"
      ],
      "execution_count": 17,
      "outputs": [
        {
          "output_type": "stream",
          "text": [
            "64\n",
            "epoch: 50, loss: 0.285\n",
            "epoch: 100, loss: 0.1499\n",
            "epoch: 150, loss: 0.2028\n",
            "epoch: 200, loss: 0.4418\n",
            "epoch: 250, loss: 0.2907\n",
            "epoch: 300, loss: 0.5267\n",
            "epoch: 350, loss: 0.2688\n",
            "epoch: 400, loss: 0.4495\n",
            "epoch: 450, loss: 0.5282\n",
            "epoch: 500, loss: 0.263\n",
            "epoch: 550, loss: 0.6128\n",
            "epoch: 600, loss: 0.47\n",
            "epoch: 650, loss: 0.2796\n",
            "epoch: 700, loss: 0.443\n",
            "epoch: 750, loss: 0.4387\n",
            "epoch: 800, loss: 0.3276\n",
            "epoch: 850, loss: 0.2581\n",
            "epoch: 900, loss: 0.4652\n"
          ],
          "name": "stdout"
        }
      ]
    },
    {
      "cell_type": "code",
      "metadata": {
        "id": "jEqT-db23FcR",
        "colab_type": "code",
        "colab": {
          "base_uri": "https://localhost:8080/",
          "height": 269
        },
        "outputId": "d4ca764f-4b15-4416-89ce-e1638a0cf7f1"
      },
      "source": [
        "import matplotlib.pyplot as plt\n",
        "plt.plot(date, ydata, 'r-', label='Original data')\n",
        "plt.legend()\n",
        "plt.show()"
      ],
      "execution_count": 23,
      "outputs": [
        {
          "output_type": "display_data",
          "data": {
            "image/png": "[encoded data removed]",
            "text/plain": [
              "<Figure size 432x288 with 1 Axes>"
            ]
          },
          "metadata": {
            "tags": []
          }
        }
      ]
    },
    {
      "cell_type": "markdown",
      "metadata": {
        "id": "XGS9cVvL8CC8",
        "colab_type": "text"
      },
      "source": [
        "# 新段落"
      ]
    },
    {
      "cell_type": "markdown",
      "metadata": {
        "id": "1sZxU38E9oAF",
        "colab_type": "text"
      },
      "source": [
        "# 新段落"
      ]
    },
    {
      "cell_type": "code",
      "metadata": {
        "id": "YkMP2PFwrs9V",
        "colab_type": "code",
        "colab": {
          "base_uri": "https://localhost:8080/",
          "height": 34
        },
        "outputId": "fa1ced8c-d56e-4668-e675-81d798ed6b85"
      },
      "source": [
        "()# 模型评估\n",
        "model.eval()\n",
        "eval_loss = 0\n",
        "eval_acc = 0\n",
        "for data in test_loader:\n",
        "    img, label = data\n",
        "    img = img.view(img.size(0), -1)\n",
        "    if torch.cuda.is_available():\n",
        "        img = img.cuda()\n",
        "        label = label.cuda()\n",
        " \n",
        "    out = model(img)\n",
        "    loss = criterion(out, label)\n",
        "    eval_loss += loss.data.item()*label.size(0)\n",
        "    _, pred = torch.max(out, 1)\n",
        "    num_correct = (pred == label).sum()\n",
        "    eval_acc += num_correct.item()\n",
        "print('Test Loss: {:.6f}, Acc: {:.6f}'.format(\n",
        "    eval_loss / (len(test_dataset)),\n",
        "    eval_acc / (len(test_dataset))\n",
        "))"
      ],
      "execution_count": 10,
      "outputs": [
        {
          "output_type": "stream",
          "text": [
            "Test Loss: 0.334727, Acc: 0.899400\n"
          ],
          "name": "stdout"
        }
      ]
    },
    {
      "cell_type": "code",
      "metadata": {
        "id": "1Kf8fW63szTP",
        "colab_type": "code",
        "colab": {}
      },
      "source": [
        "# https://pypi.python.org/pypi/pydot\n",
        "!apt-get -qq install -y graphviz && pip install -q pydot\n",
        "import pydot"
      ],
      "execution_count": 0,
      "outputs": []
    }
  ]
}